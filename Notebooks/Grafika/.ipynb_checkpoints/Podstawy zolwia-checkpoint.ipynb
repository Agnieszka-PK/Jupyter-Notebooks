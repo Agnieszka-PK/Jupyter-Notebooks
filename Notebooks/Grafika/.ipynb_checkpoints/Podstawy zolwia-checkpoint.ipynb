{
 "cells": [
  {
   "cell_type": "markdown",
   "id": "798a97ec",
   "metadata": {},
   "source": [
    "# Wczytanie grafiki żółwia w Pythonie"
   ]
  },
  {
   "cell_type": "code",
   "execution_count": 1,
   "id": "90e9ab58",
   "metadata": {},
   "outputs": [],
   "source": [
    "from turtle import *"
   ]
  },
  {
   "cell_type": "markdown",
   "id": "cf538a7f",
   "metadata": {},
   "source": [
    "## Ustawienie kształtu żółwia"
   ]
  },
  {
   "cell_type": "code",
   "execution_count": 2,
   "id": "595003af",
   "metadata": {},
   "outputs": [],
   "source": [
    "shape(\"turtle\")"
   ]
  },
  {
   "cell_type": "markdown",
   "id": "8c72c769",
   "metadata": {},
   "source": [
    "## Wyświetlenie pozycji żółwia na ekranie "
   ]
  },
  {
   "cell_type": "code",
   "execution_count": 3,
   "id": "b55e8c1f",
   "metadata": {
    "scrolled": false
   },
   "outputs": [
    {
     "data": {
      "text/plain": [
       "(0.00,0.00)"
      ]
     },
     "execution_count": 3,
     "metadata": {},
     "output_type": "execute_result"
    }
   ],
   "source": [
    "position()"
   ]
  },
  {
   "cell_type": "markdown",
   "id": "d8186e5f",
   "metadata": {},
   "source": [
    "## Pokazanie żółwia na ekranie "
   ]
  },
  {
   "cell_type": "code",
   "execution_count": 4,
   "id": "8aae09b6",
   "metadata": {},
   "outputs": [],
   "source": [
    "showturtle()"
   ]
  },
  {
   "cell_type": "markdown",
   "id": "b4bc2389",
   "metadata": {},
   "source": [
    "## Ukrycie żółwia "
   ]
  },
  {
   "cell_type": "code",
   "execution_count": 5,
   "id": "e1c38b5c",
   "metadata": {},
   "outputs": [],
   "source": [
    "hideturtle()"
   ]
  },
  {
   "cell_type": "markdown",
   "id": "d21e6c3c",
   "metadata": {},
   "source": [
    "## Rysowanie czegoś tam "
   ]
  },
  {
   "cell_type": "code",
   "execution_count": 6,
   "id": "67f344ea",
   "metadata": {},
   "outputs": [],
   "source": [
    "for i in range(5):\n",
    "    fd(20); lt(90)\n",
    "    fd(40); rt(90)\n",
    "    fd(20); rt(90)\n",
    "    fd(40); lt(90)"
   ]
  },
  {
   "cell_type": "code",
   "execution_count": 7,
   "id": "239199f2",
   "metadata": {},
   "outputs": [],
   "source": [
    "for i in range(5):\n",
    "    fd(20); lt(90); write(\"*\")\n",
    "    fd(40); rt(90); write(\"*\")\n",
    "    fd(20); rt(90); write(\"*\")\n",
    "    fd(40); lt(90); write(\"*\")"
   ]
  },
  {
   "cell_type": "markdown",
   "id": "1f1cc6cb",
   "metadata": {},
   "source": [
    "## Powrót żółwia do środka ekranu"
   ]
  },
  {
   "cell_type": "code",
   "execution_count": 8,
   "id": "80b88b4b",
   "metadata": {},
   "outputs": [],
   "source": [
    "home()"
   ]
  },
  {
   "cell_type": "markdown",
   "id": "1b28c43e",
   "metadata": {},
   "source": [
    "## Czyszczenie ekranu"
   ]
  },
  {
   "cell_type": "code",
   "execution_count": 9,
   "id": "b1565af5",
   "metadata": {},
   "outputs": [],
   "source": [
    "clear()"
   ]
  },
  {
   "cell_type": "markdown",
   "id": "5624c33e",
   "metadata": {},
   "source": [
    "## Zółw podnosi pisak"
   ]
  },
  {
   "cell_type": "code",
   "execution_count": 10,
   "id": "34f06168",
   "metadata": {},
   "outputs": [],
   "source": [
    "pu()"
   ]
  },
  {
   "cell_type": "markdown",
   "id": "2adf9fbc",
   "metadata": {},
   "source": [
    "## Żółw opuszcza pisak"
   ]
  },
  {
   "cell_type": "code",
   "execution_count": 11,
   "id": "b5f39625",
   "metadata": {},
   "outputs": [],
   "source": [
    "pd()"
   ]
  },
  {
   "cell_type": "markdown",
   "id": "93a5b43a",
   "metadata": {},
   "source": [
    "## Ustawienie koloru"
   ]
  },
  {
   "cell_type": "code",
   "execution_count": 12,
   "id": "997f2859",
   "metadata": {},
   "outputs": [],
   "source": [
    "pencolor(\"brown\")"
   ]
  },
  {
   "cell_type": "code",
   "execution_count": 13,
   "id": "235606ad",
   "metadata": {},
   "outputs": [],
   "source": [
    "pencolor(\"red\")"
   ]
  },
  {
   "cell_type": "code",
   "execution_count": 14,
   "id": "7daba14e",
   "metadata": {},
   "outputs": [],
   "source": [
    "pencolor(\"yellow\")"
   ]
  },
  {
   "cell_type": "code",
   "execution_count": 15,
   "id": "7433d78a",
   "metadata": {},
   "outputs": [],
   "source": [
    "pencolor(\"black\")"
   ]
  },
  {
   "cell_type": "markdown",
   "id": "ad496e4c",
   "metadata": {},
   "source": [
    "# Ustawienie rozmiaru pisaka "
   ]
  },
  {
   "cell_type": "code",
   "execution_count": 16,
   "id": "216bdc21",
   "metadata": {},
   "outputs": [],
   "source": [
    "pensize(5)"
   ]
  },
  {
   "cell_type": "code",
   "execution_count": 17,
   "id": "3c53799b",
   "metadata": {},
   "outputs": [],
   "source": [
    "pensize(10)"
   ]
  },
  {
   "cell_type": "code",
   "execution_count": 18,
   "id": "5642f93e",
   "metadata": {},
   "outputs": [],
   "source": [
    "pensize(15)"
   ]
  },
  {
   "cell_type": "code",
   "execution_count": null,
   "id": "0e9e20f7",
   "metadata": {},
   "outputs": [],
   "source": []
  }
 ],
 "metadata": {
  "kernelspec": {
   "display_name": "Python 3 (ipykernel)",
   "language": "python",
   "name": "python3"
  },
  "language_info": {
   "codemirror_mode": {
    "name": "ipython",
    "version": 3
   },
   "file_extension": ".py",
   "mimetype": "text/x-python",
   "name": "python",
   "nbconvert_exporter": "python",
   "pygments_lexer": "ipython3",
   "version": "3.9.7"
  }
 },
 "nbformat": 4,
 "nbformat_minor": 5
}
