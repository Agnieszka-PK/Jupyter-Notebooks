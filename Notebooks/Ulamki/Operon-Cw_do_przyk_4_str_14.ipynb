{
 "cells": [
  {
   "cell_type": "markdown",
   "id": "2717573a-0e2c-435a-94be-ebf1b0c4efda",
   "metadata": {
    "jp-MarkdownHeadingCollapsed": true,
    "tags": []
   },
   "source": [
    "#  Wyłączanie całości z ułamka"
   ]
  },
  {
   "cell_type": "markdown",
   "id": "50186338-e08d-4651-8ef4-85c7c32dd990",
   "metadata": {},
   "source": [
    "# Wprowadzenie ułamka"
   ]
  },
  {
   "cell_type": "code",
   "execution_count": null,
   "id": "0673c9ed-7644-446b-8a6a-248851a36894",
   "metadata": {},
   "outputs": [],
   "source": [
    "licznik = int(input(\"Podaj licznik ułamka:\"))\n",
    "mianownik = int(input(\"Podaj mianownik ułamka:\"))"
   ]
  },
  {
   "cell_type": "markdown",
   "id": "8104d97b-8da7-4976-b30b-b472ae1fd397",
   "metadata": {},
   "source": [
    "# Odczytanie ułamka"
   ]
  },
  {
   "cell_type": "code",
   "execution_count": null,
   "id": "7ae6e6b7-461e-4f4d-86a5-89569931756e",
   "metadata": {},
   "outputs": [],
   "source": [
    "print(\"Podany ułamek:\")\n",
    "print(licznik)\n",
    "print(\"--\")\n",
    "print(mianownik)"
   ]
  },
  {
   "cell_type": "code",
   "execution_count": null,
   "id": "9a026ab7-998e-4a49-b5b1-85ec3c3bff93",
   "metadata": {},
   "outputs": [],
   "source": [
    "print(\"Wyłączenie całości z ułamka:\")\n",
    "print(licznik)\n",
    "print(\"--\")\n",
    "print(mianownik)\n",
    "print(\" to:\",licznik//mianownik,\"cale\")\n",
    "print(\"i\")\n",
    "print(licznik%mianownik)\n",
    "print(\"--\")\n",
    "print(mianownik)"
   ]
  },
  {
   "cell_type": "markdown",
   "id": "6309d377-be35-4518-aca5-e1de3f56fb69",
   "metadata": {},
   "source": [
    "# Sprawdzenie"
   ]
  },
  {
   "cell_type": "code",
   "execution_count": null,
   "id": "0ddd9a13-3688-4d68-9a76-21963bb5bba6",
   "metadata": {},
   "outputs": [],
   "source": [
    "print(\"Sprawdzenie:\",licznik//mianownik,\"*\",mianownik,\"+\",licznik%mianownik,\"=\",licznik//mianownik*mianownik+licznik%mianownik)"
   ]
  },
  {
   "cell_type": "code",
   "execution_count": null,
   "id": "d352a3aa-db4b-4de0-a556-dc0fb83004ad",
   "metadata": {},
   "outputs": [],
   "source": []
  }
 ],
 "metadata": {
  "kernelspec": {
   "display_name": "Python 3 (ipykernel)",
   "language": "python",
   "name": "python3"
  },
  "language_info": {
   "codemirror_mode": {
    "name": "ipython",
    "version": 3
   },
   "file_extension": ".py",
   "mimetype": "text/x-python",
   "name": "python",
   "nbconvert_exporter": "python",
   "pygments_lexer": "ipython3",
   "version": "3.9.7"
  }
 },
 "nbformat": 4,
 "nbformat_minor": 5
}
