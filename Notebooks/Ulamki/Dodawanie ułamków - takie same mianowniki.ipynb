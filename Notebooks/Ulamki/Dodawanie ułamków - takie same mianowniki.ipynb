{
 "cells": [
  {
   "cell_type": "markdown",
   "id": "72da88d0",
   "metadata": {},
   "source": [
    "# Dodawanie ułamków - takie same mianowniki"
   ]
  },
  {
   "cell_type": "markdown",
   "id": "6ce3cefd",
   "metadata": {},
   "source": [
    "## Wprowadzenie pierwszego ułamka"
   ]
  },
  {
   "cell_type": "code",
   "execution_count": 1,
   "id": "8b449697",
   "metadata": {
    "scrolled": true
   },
   "outputs": [
    {
     "name": "stdout",
     "output_type": "stream",
     "text": [
      "Podaj licznik pierwszego ułamka:13\n",
      "Podaj mianownik pierwszego ułamka:7\n"
     ]
    }
   ],
   "source": [
    "licznik1 = int(input(\"Podaj licznik pierwszego ułamka:\"))\n",
    "mianownik1 = int(input(\"Podaj mianownik pierwszego ułamka:\"))"
   ]
  },
  {
   "cell_type": "markdown",
   "id": "7ee6ba51",
   "metadata": {},
   "source": [
    "## Odczytanie pierwszego ułamka"
   ]
  },
  {
   "cell_type": "code",
   "execution_count": 2,
   "id": "075030da",
   "metadata": {
    "scrolled": true
   },
   "outputs": [
    {
     "name": "stdout",
     "output_type": "stream",
     "text": [
      "Pierwszy ułamek:\n",
      "13\n",
      "--\n",
      "7\n"
     ]
    }
   ],
   "source": [
    "print(\"Pierwszy ułamek:\")\n",
    "print(licznik1)\n",
    "print(\"--\")\n",
    "print(mianownik1)"
   ]
  },
  {
   "cell_type": "markdown",
   "id": "cd69abf6",
   "metadata": {},
   "source": [
    "## Wprowadzenie drugiego ułamka"
   ]
  },
  {
   "cell_type": "code",
   "execution_count": 3,
   "id": "b04d1010",
   "metadata": {},
   "outputs": [
    {
     "name": "stdout",
     "output_type": "stream",
     "text": [
      "Podaj licznik drugiego ułamka:15\n",
      "Podaj mianownik drugiego ułamka:7\n"
     ]
    }
   ],
   "source": [
    "licznik2 = int(input(\"Podaj licznik drugiego ułamka:\"))\n",
    "mianownik2 = int(input(\"Podaj mianownik drugiego ułamka:\"))"
   ]
  },
  {
   "cell_type": "markdown",
   "id": "d4fe0f57",
   "metadata": {},
   "source": [
    "## Odczytanie drugiego ułamka"
   ]
  },
  {
   "cell_type": "code",
   "execution_count": 4,
   "id": "b1ad1392",
   "metadata": {},
   "outputs": [
    {
     "name": "stdout",
     "output_type": "stream",
     "text": [
      "Drugi ułamek:\n",
      "15\n",
      "--\n",
      "7\n"
     ]
    }
   ],
   "source": [
    "print(\"Drugi ułamek:\")\n",
    "print(licznik2)\n",
    "print(\"--\")\n",
    "print(mianownik2)"
   ]
  },
  {
   "cell_type": "markdown",
   "id": "ef303330",
   "metadata": {},
   "source": [
    "## Dodawanie ułamków"
   ]
  },
  {
   "cell_type": "code",
   "execution_count": 7,
   "id": "ce0a0c5b",
   "metadata": {},
   "outputs": [
    {
     "name": "stdout",
     "output_type": "stream",
     "text": [
      "Dodawanie ułamków \n",
      "13\n",
      "--\n",
      "7\n",
      " + \n",
      "15\n",
      "--\n",
      "7\n",
      " =\n",
      "13  +  15\n",
      "---------\n",
      "7\n",
      " =\n",
      "28\n",
      "--\n",
      "7\n"
     ]
    }
   ],
   "source": [
    "print(\"Dodawanie ułamków \")\n",
    "print(licznik1)\n",
    "print(\"--\")\n",
    "print(mianownik1)\n",
    "print(\" + \")\n",
    "print(licznik2)\n",
    "print(\"--\")\n",
    "print(mianownik2)\n",
    "print(\" =\")\n",
    "print(licznik1,\" + \",licznik2)\n",
    "print(\"---------\")\n",
    "print(mianownik1)\n",
    "print(\" =\")\n",
    "print(licznik1 + licznik2)\n",
    "print(\"--\")\n",
    "print(mianownik1)"
   ]
  },
  {
   "cell_type": "markdown",
   "id": "92e4f306",
   "metadata": {},
   "source": [
    "##  Wyłączanie całości z ułamka"
   ]
  },
  {
   "cell_type": "code",
   "execution_count": 8,
   "id": "c9470585",
   "metadata": {},
   "outputs": [
    {
     "name": "stdout",
     "output_type": "stream",
     "text": [
      "Wyłączenie całości z ułamka:\n",
      "28\n",
      "--\n",
      "7\n",
      " to: 4 cale\n",
      "i\n",
      "0\n",
      "--\n",
      "7\n"
     ]
    }
   ],
   "source": [
    "print(\"Wyłączenie całości z ułamka:\")\n",
    "print(licznik1 + licznik2)\n",
    "print(\"--\")\n",
    "print(mianownik1)\n",
    "print(\" to:\",(licznik1+licznik2)//mianownik1,\"cale\")\n",
    "print(\"i\")\n",
    "print((licznik1+licznik2)%mianownik1)\n",
    "print(\"--\")\n",
    "print(mianownik1)"
   ]
  },
  {
   "cell_type": "code",
   "execution_count": null,
   "id": "c608031d",
   "metadata": {},
   "outputs": [],
   "source": []
  }
 ],
 "metadata": {
  "kernelspec": {
   "display_name": "Python 3 (ipykernel)",
   "language": "python",
   "name": "python3"
  },
  "language_info": {
   "codemirror_mode": {
    "name": "ipython",
    "version": 3
   },
   "file_extension": ".py",
   "mimetype": "text/x-python",
   "name": "python",
   "nbconvert_exporter": "python",
   "pygments_lexer": "ipython3",
   "version": "3.9.7"
  }
 },
 "nbformat": 4,
 "nbformat_minor": 5
}
