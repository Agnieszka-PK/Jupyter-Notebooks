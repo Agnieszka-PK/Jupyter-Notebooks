{
 "cells": [
  {
   "cell_type": "markdown",
   "id": "80506542",
   "metadata": {},
   "source": [
    "# Algorytm Euklidesa NWD - wersja z odejmowaniem"
   ]
  },
  {
   "cell_type": "markdown",
   "id": "79d6eddc",
   "metadata": {},
   "source": [
    "## NWD(a,b) - największy wspólny dzielnik liczb a i b"
   ]
  },
  {
   "cell_type": "code",
   "execution_count": null,
   "id": "09307e53",
   "metadata": {},
   "outputs": [],
   "source": [
    "a = int(input(\"Podaj a:\"))\n",
    "b = int(input(\"Podaj b:\"))"
   ]
  },
  {
   "cell_type": "code",
   "execution_count": null,
   "id": "002a3041",
   "metadata": {},
   "outputs": [],
   "source": [
    "while a != b:\n",
    "    if a > b:\n",
    "        a = a - b\n",
    "    else:\n",
    "        b = b - a"
   ]
  },
  {
   "cell_type": "code",
   "execution_count": null,
   "id": "547d1176",
   "metadata": {},
   "outputs": [],
   "source": [
    "print(\"NWD =\", a)"
   ]
  },
  {
   "cell_type": "code",
   "execution_count": null,
   "id": "851a5b47",
   "metadata": {},
   "outputs": [],
   "source": []
  }
 ],
 "metadata": {
  "kernelspec": {
   "display_name": "Python 3 (ipykernel)",
   "language": "python",
   "name": "python3"
  },
  "language_info": {
   "codemirror_mode": {
    "name": "ipython",
    "version": 3
   },
   "file_extension": ".py",
   "mimetype": "text/x-python",
   "name": "python",
   "nbconvert_exporter": "python",
   "pygments_lexer": "ipython3",
   "version": "3.9.7"
  }
 },
 "nbformat": 4,
 "nbformat_minor": 5
}
