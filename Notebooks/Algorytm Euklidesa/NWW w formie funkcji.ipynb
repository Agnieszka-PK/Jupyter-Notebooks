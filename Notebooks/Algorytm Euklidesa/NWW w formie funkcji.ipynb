{
 "cells": [
  {
   "cell_type": "markdown",
   "id": "80506542",
   "metadata": {},
   "source": [
    "# NWW w formie nowej funkcji"
   ]
  },
  {
   "cell_type": "markdown",
   "id": "79d6eddc",
   "metadata": {},
   "source": [
    "## NWW(a,b) - najmniejsza wspólna wielokrotność liczb a i b"
   ]
  },
  {
   "cell_type": "markdown",
   "id": "265a6892",
   "metadata": {},
   "source": [
    "## Korzystamy ze wzoru"
   ]
  },
  {
   "cell_type": "markdown",
   "id": "f2389f21",
   "metadata": {},
   "source": [
    "## NWW(a, b) = (a*b)/NWD(a, b)"
   ]
  },
  {
   "cell_type": "code",
   "execution_count": null,
   "id": "09307e53",
   "metadata": {},
   "outputs": [],
   "source": [
    "a = int(input(\"Podaj a:\"))\n",
    "b = int(input(\"Podaj b:\"))"
   ]
  },
  {
   "cell_type": "code",
   "execution_count": null,
   "id": "34e501b3",
   "metadata": {},
   "outputs": [],
   "source": [
    "def nwd(a, b):\n",
    "    while a != b:\n",
    "        if a > b:\n",
    "            a = a - b\n",
    "        else:\n",
    "            b = b - a\n",
    "    return a      "
   ]
  },
  {
   "cell_type": "code",
   "execution_count": null,
   "id": "002a3041",
   "metadata": {},
   "outputs": [],
   "source": [
    "def nww(a, b):\n",
    "    return a*b//nwd(a, b)        "
   ]
  },
  {
   "cell_type": "code",
   "execution_count": null,
   "id": "547d1176",
   "metadata": {},
   "outputs": [],
   "source": [
    "print(\"NWW =\", nww(a, b))"
   ]
  }
 ],
 "metadata": {
  "kernelspec": {
   "display_name": "Python 3 (ipykernel)",
   "language": "python",
   "name": "python3"
  },
  "language_info": {
   "codemirror_mode": {
    "name": "ipython",
    "version": 3
   },
   "file_extension": ".py",
   "mimetype": "text/x-python",
   "name": "python",
   "nbconvert_exporter": "python",
   "pygments_lexer": "ipython3",
   "version": "3.9.7"
  }
 },
 "nbformat": 4,
 "nbformat_minor": 5
}
